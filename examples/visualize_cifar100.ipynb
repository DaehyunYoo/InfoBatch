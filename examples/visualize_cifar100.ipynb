{
 "cells": [
  {
   "cell_type": "code",
   "execution_count": null,
   "metadata": {},
   "outputs": [],
   "source": [
    "import pickle\n",
    "import matplotlib.pyplot as plt"
   ]
  },
  {
   "cell_type": "code",
   "execution_count": null,
   "metadata": {},
   "outputs": [],
   "source": [
    "# 파일 경로 설정\n",
    "file_paths = [\n",
    "    '/home/work/daehyun/InfoBatch/results_cifar100/results_r18_0.5_0.875_0_infobatch.pkl',\n",
    "    '/home/work/daehyun/InfoBatch/results_cifar100/results_r50_0.5_0.875_0_infobatch.pkl',\n",
    "    '/home/work/daehyun/InfoBatch/results_cifar100/results_r18_0.5_0.875_0_Noinfobatch.pkl',\n",
    "    '/home/work/daehyun/InfoBatch/results_cifar100/results_r50_0.5_0.875_0_Noinfobatch.pkl'\n",
    "]\n",
    "\n",
    "labels = [\n",
    "    'ResNet18 with InfoBatch',\n",
    "    'ResNet50 with InfoBatch',\n",
    "    'ResNet18 without InfoBatch',\n",
    "    'ResNet50 without InfoBatch'\n",
    "]"
   ]
  },
  {
   "cell_type": "code",
   "execution_count": null,
   "metadata": {},
   "outputs": [],
   "source": [
    "# 데이터 로드 및 시각화를 위한 빈 리스트 생성\n",
    "train_accs = []\n",
    "valid_accs = []\n",
    "train_losses = []\n",
    "valid_losses = []\n",
    "best_accs = []\n",
    "total_times = []\n",
    "\n",
    "# 파일 로드 및 데이터 추출\n",
    "for file_path in file_paths:\n",
    "    with open(file_path, 'rb') as file:\n",
    "        data = pickle.load(file)\n",
    "    train_accs.append(data['train_acc'])\n",
    "    valid_accs.append(data['valid_acc'])\n",
    "    train_losses.append(data['train_loss'])\n",
    "    valid_losses.append(data['valid_loss'])\n",
    "    best_accs.append(data['best_acc'])\n",
    "    total_times.append(data['total_time'])"
   ]
  },
  {
   "cell_type": "code",
   "execution_count": null,
   "metadata": {},
   "outputs": [],
   "source": [
    "# 정확도 시각화 (2x2)\n",
    "fig, axs = plt.subplots(2, 2, figsize=(14, 10), sharex=True, sharey=True)\n",
    "fig.suptitle('Training and Test Accuracy Comparison')\n",
    "\n",
    "for i, ax in enumerate(axs.flat):\n",
    "    # ax.plot(train_accs[i], label='Training Accuracy')\n",
    "    ax.plot(valid_accs[i], label='Test Accuracy')\n",
    "    ax.set_title(labels[i])\n",
    "    ax.set_xlabel('Epoch')\n",
    "    ax.set_ylabel('Accuracy')\n",
    "    ax.legend()\n",
    "    ax.grid(True)\n",
    "\n",
    "plt.tight_layout(rect=[0, 0.03, 1, 0.95])\n",
    "plt.show()\n",
    "\n",
    "# 손실 시각화 (2x2)\n",
    "fig, axs = plt.subplots(2, 2, figsize=(14, 10), sharex=True, sharey=True)\n",
    "fig.suptitle('Training and Test Loss Comparison')\n",
    "\n",
    "for i, ax in enumerate(axs.flat):\n",
    "    ax.plot(train_losses[i], label='Training Loss')\n",
    "    ax.plot(valid_losses[i], label='Test Loss')\n",
    "    ax.set_title(labels[i])\n",
    "    ax.set_xlabel('Epoch')\n",
    "    ax.set_ylabel('Loss')\n",
    "    ax.legend()\n",
    "    ax.grid(True)\n",
    "\n",
    "plt.tight_layout(rect=[0, 0.03, 1, 0.95])\n",
    "plt.show()\n",
    "\n",
    "# 출력: 최고 정확도와 전체 훈련 시간\n",
    "for i, label in enumerate(labels):\n",
    "    print(f\"{label}: Best Accuracy = {best_accs[i]:.2f}, Total Training Time = {total_times[i]:.2f} seconds\")"
   ]
  }
 ],
 "metadata": {
  "kernelspec": {
   "display_name": "diffusion",
   "language": "python",
   "name": "python3"
  },
  "language_info": {
   "name": "python",
   "version": "3.9.19"
  },
  "orig_nbformat": 4
 },
 "nbformat": 4,
 "nbformat_minor": 2
}
